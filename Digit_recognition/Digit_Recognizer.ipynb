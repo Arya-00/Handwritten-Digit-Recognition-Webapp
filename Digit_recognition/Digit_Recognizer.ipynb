{
 "cells": [
  {
   "cell_type": "code",
   "execution_count": 70,
   "metadata": {
    "_cell_guid": "55ec59e1-8a8c-42d2-8ccc-b6d95ea198b4",
    "_execution_state": "busy",
    "_uuid": "a6d625ede9e19ac1f146a5f63d6ca19c4b98e20c"
   },
   "outputs": [],
   "source": [
    "import pandas as pd\n",
    "import numpy as np\n",
    "\n",
    "np.random.seed(1212)\n",
    "\n",
    "import keras\n",
    "from keras.models import Model\n",
    "from keras.layers import *\n",
    "from keras import optimizers"
   ]
  },
  {
   "cell_type": "code",
   "execution_count": 71,
   "metadata": {
    "_cell_guid": "daa0805e-e1dd-4806-b2db-ff0124febe7d",
    "_execution_state": "busy",
    "_uuid": "be0a7acbb3bfc83fd3103b4a401337aafe57c00d",
    "collapsed": false
   },
   "outputs": [],
   "source": [
    "df_train = pd.read_csv('train.csv')\n",
    "# df_test = pd.read_csv('../input/test.csv')"
   ]
  },
  {
   "cell_type": "code",
   "execution_count": 72,
   "metadata": {},
   "outputs": [],
   "source": [
    "data = np.array(df_train)\n",
    "\n",
    "data=data.T\n",
    "\n",
    "y_train = data[0]\n",
    "\n",
    "X_train = data[1:].T"
   ]
  },
  {
   "cell_type": "code",
   "execution_count": 73,
   "metadata": {},
   "outputs": [
    {
     "name": "stdout",
     "output_type": "stream",
     "text": [
      "(42000, 784)\n"
     ]
    }
   ],
   "source": [
    "print(X_train.shape)"
   ]
  },
  {
   "cell_type": "code",
   "execution_count": 74,
   "metadata": {},
   "outputs": [
    {
     "name": "stdout",
     "output_type": "stream",
     "text": [
      "(42000,)\n"
     ]
    }
   ],
   "source": [
    "print(y_train.shape)"
   ]
  },
  {
   "cell_type": "markdown",
   "metadata": {
    "_cell_guid": "45bd232a-4000-4a06-a3ed-0be9f993746c",
    "_execution_state": "idle",
    "_uuid": "f0970dcbc0b6791dc44936d8d63e6985dfb6960c",
    "collapsed": false
   },
   "source": [
    "## Splitting into training and validation dataset\n"
   ]
  },
  {
   "cell_type": "markdown",
   "metadata": {
    "_cell_guid": "4486ba9e-b8b3-4f09-a597-3d5e6bbd6c1c",
    "_execution_state": "idle",
    "_uuid": "9a10a6e1aae9645a7c3e5a703d78d9c3b096f6d3",
    "collapsed": false
   },
   "source": [
    "## Data cleaning, normalization and selection\n"
   ]
  },
  {
   "cell_type": "code",
   "execution_count": 75,
   "metadata": {
    "_cell_guid": "4d0e07b5-28dd-42f1-b425-6414aea90cde",
    "_execution_state": "busy",
    "_uuid": "cc2daf9f099fb62e3b470f913349428ef396b75b",
    "collapsed": false
   },
   "outputs": [],
   "source": [
    "# print((min(X_train[1]), max(X_train[1])))"
   ]
  },
  {
   "cell_type": "markdown",
   "metadata": {
    "_cell_guid": "60b333cc-a76e-4713-97f5-a9095e27e43b",
    "_execution_state": "idle",
    "_uuid": "11d4f22158c013b3f028f5c11340b4a4b7291d1e",
    "collapsed": false
   },
   "source": [
    "As the pixel intensities are currently between the range of 0 and 255, we proceed to normalize the features, using broadcasting. In addition, we proceed to convert our labels from a class vector to binary One Hot Encoded\n"
   ]
  },
  {
   "cell_type": "code",
   "execution_count": 76,
   "metadata": {
    "_cell_guid": "e9f8eaa0-c77e-4510-9ff1-bb56e1d5f76d",
    "_execution_state": "busy",
    "_uuid": "c24261ffd2384078a836a909ea4839a31d51dd66",
    "collapsed": false
   },
   "outputs": [],
   "source": [
    "# Feature Normalization \n",
    "X_train = X_train.astype('float32')\n",
    "X_train /= 255\n",
    "\n",
    "# Convert labels to One Hot Encoded\n",
    "num_digits = 10\n",
    "y_train = keras.utils.to_categorical(y_train, num_digits)"
   ]
  },
  {
   "cell_type": "code",
   "execution_count": 77,
   "metadata": {
    "_cell_guid": "6667ca35-44ff-43f3-b88b-27b787be4ee0",
    "_execution_state": "busy",
    "_uuid": "3fdf37a538504f4e5288cbb8b70a719c2689caca",
    "collapsed": false
   },
   "outputs": [],
   "source": [
    "# Printing 2 examples of labels after conversion\n",
    "# print(y_train[0]) # 2\n",
    "# print(y_train[3]) # 7"
   ]
  },
  {
   "cell_type": "markdown",
   "metadata": {
    "_cell_guid": "7d4e437c-12ea-4bad-a580-5504e8a77da0",
    "_execution_state": "idle",
    "_uuid": "0776b5f2aff1ebb6f12c2a9ee8e93013c690caf6",
    "collapsed": false
   },
   "source": [
    "## Model Fitting\n"
   ]
  },
  {
   "cell_type": "code",
   "execution_count": 78,
   "metadata": {
    "_cell_guid": "906807f1-ed62-4dee-a423-5f15842fb28f",
    "_execution_state": "busy",
    "_uuid": "c4ea7858fbdf41308dcdb5d373af11484d5b5140",
    "collapsed": false
   },
   "outputs": [
    {
     "name": "stderr",
     "output_type": "stream",
     "text": [
      "c:\\Users\\aryap\\anaconda3\\envs\\Tensorflow\\lib\\site-packages\\keras\\optimizers\\optimizer_v2\\gradient_descent.py:111: UserWarning: The `lr` argument is deprecated, use `learning_rate` instead.\n",
      "  super().__init__(name, **kwargs)\n"
     ]
    }
   ],
   "source": [
    "# Insert Hyperparameters\n",
    "learning_rate = 0.1\n",
    "training_epochs = 20\n",
    "batch_size = 100\n",
    "sgd = optimizers.SGD(lr=learning_rate)"
   ]
  },
  {
   "cell_type": "code",
   "execution_count": 79,
   "metadata": {
    "_cell_guid": "9054eb9b-e655-415c-93e7-3f0ca45d84ac",
    "_execution_state": "busy",
    "_uuid": "608b71d5bd8dc23df6d916e7371887fd52dd24d8",
    "collapsed": false
   },
   "outputs": [],
   "source": [
    "# Input Parameters\n",
    "n_input = 784 # number of features\n",
    "n_hidden_1 = 300\n",
    "n_hidden_2 = 100\n",
    "n_hidden_3 = 100\n",
    "n_hidden_4 = 200\n",
    "num_digits = 10"
   ]
  },
  {
   "cell_type": "code",
   "execution_count": 80,
   "metadata": {
    "_cell_guid": "0541e860-b2f6-43cd-8d00-254e9daf775a",
    "_execution_state": "busy",
    "_uuid": "d6335bd113992a8898679d1a5d09ed2eda3fe5af",
    "collapsed": false
   },
   "outputs": [],
   "source": [
    "Inp = Input(shape=(784,))\n",
    "x = Dense(n_hidden_1, activation='relu', name = \"Hidden_Layer_1\")(Inp)\n",
    "x = Dropout(0.3)(x)\n",
    "x = Dense(n_hidden_2, activation='relu', name = \"Hidden_Layer_2\")(x)\n",
    "x = Dropout(0.3)(x)\n",
    "x = Dense(n_hidden_3, activation='relu', name = \"Hidden_Layer_3\")(x)\n",
    "x = Dropout(0.3)(x)\n",
    "x = Dense(n_hidden_4, activation='relu', name = \"Hidden_Layer_4\")(x)\n",
    "output = Dense(num_digits, activation='softmax', name = \"Output_Layer\")(x)"
   ]
  },
  {
   "cell_type": "code",
   "execution_count": 81,
   "metadata": {
    "_cell_guid": "95f4299a-0e1c-4dca-b7d5-839e7a5e8fc8",
    "_execution_state": "busy",
    "_uuid": "08e56562d89bcd25756bc5bbbb4f33ceb87f106e",
    "collapsed": false
   },
   "outputs": [
    {
     "name": "stdout",
     "output_type": "stream",
     "text": [
      "Model: \"model_3\"\n",
      "_________________________________________________________________\n",
      " Layer (type)                Output Shape              Param #   \n",
      "=================================================================\n",
      " input_4 (InputLayer)        [(None, 784)]             0         \n",
      "                                                                 \n",
      " Hidden_Layer_1 (Dense)      (None, 300)               235500    \n",
      "                                                                 \n",
      " dropout_9 (Dropout)         (None, 300)               0         \n",
      "                                                                 \n",
      " Hidden_Layer_2 (Dense)      (None, 100)               30100     \n",
      "                                                                 \n",
      " dropout_10 (Dropout)        (None, 100)               0         \n",
      "                                                                 \n",
      " Hidden_Layer_3 (Dense)      (None, 100)               10100     \n",
      "                                                                 \n",
      " dropout_11 (Dropout)        (None, 100)               0         \n",
      "                                                                 \n",
      " Hidden_Layer_4 (Dense)      (None, 200)               20200     \n",
      "                                                                 \n",
      " Output_Layer (Dense)        (None, 10)                2010      \n",
      "                                                                 \n",
      "=================================================================\n",
      "Total params: 297,910\n",
      "Trainable params: 297,910\n",
      "Non-trainable params: 0\n",
      "_________________________________________________________________\n"
     ]
    }
   ],
   "source": [
    "# Our model would have '6' layers - input layer, 4 hidden layer and 1 output layer\n",
    "model4 = Model(Inp, output)\n",
    "model4.summary() # We have 297,910 parameters to estimate"
   ]
  },
  {
   "cell_type": "code",
   "execution_count": 82,
   "metadata": {
    "_cell_guid": "ed1c4a9d-730e-4e4d-8a25-4448d877d5b6",
    "_execution_state": "busy",
    "_uuid": "2328fa07b0f4c63448b0c30b7ae450df2b0fe3be",
    "collapsed": false
   },
   "outputs": [],
   "source": [
    "model4.compile(loss='categorical_crossentropy',\n",
    "              optimizer='adam',\n",
    "              metrics=['accuracy'])"
   ]
  },
  {
   "cell_type": "code",
   "execution_count": 83,
   "metadata": {
    "_cell_guid": "8543232e-da2b-46ce-9a5e-06e6283b854a",
    "_execution_state": "busy",
    "_uuid": "986af85bbaf1b212b00cf28dc9204339b717ee48",
    "collapsed": false
   },
   "outputs": [
    {
     "name": "stdout",
     "output_type": "stream",
     "text": [
      "Epoch 1/20\n",
      "420/420 [==============================] - 3s 4ms/step - loss: 0.5183 - accuracy: 0.8357\n",
      "Epoch 2/20\n",
      "420/420 [==============================] - 2s 5ms/step - loss: 0.2041 - accuracy: 0.9411\n",
      "Epoch 3/20\n",
      "420/420 [==============================] - 2s 4ms/step - loss: 0.1543 - accuracy: 0.9545\n",
      "Epoch 4/20\n",
      "420/420 [==============================] - 3s 6ms/step - loss: 0.1307 - accuracy: 0.9619\n",
      "Epoch 5/20\n",
      "420/420 [==============================] - 3s 7ms/step - loss: 0.1076 - accuracy: 0.9694\n",
      "Epoch 6/20\n",
      "420/420 [==============================] - 2s 6ms/step - loss: 0.1024 - accuracy: 0.9709\n",
      "Epoch 7/20\n",
      "420/420 [==============================] - 2s 5ms/step - loss: 0.0922 - accuracy: 0.9730\n",
      "Epoch 8/20\n",
      "420/420 [==============================] - 2s 6ms/step - loss: 0.0832 - accuracy: 0.9759\n",
      "Epoch 9/20\n",
      "420/420 [==============================] - 2s 6ms/step - loss: 0.0750 - accuracy: 0.9789\n",
      "Epoch 10/20\n",
      "420/420 [==============================] - 2s 5ms/step - loss: 0.0713 - accuracy: 0.9791\n",
      "Epoch 11/20\n",
      "420/420 [==============================] - 2s 6ms/step - loss: 0.0685 - accuracy: 0.9786\n",
      "Epoch 12/20\n",
      "420/420 [==============================] - 2s 6ms/step - loss: 0.0625 - accuracy: 0.9814\n",
      "Epoch 13/20\n",
      "420/420 [==============================] - 2s 5ms/step - loss: 0.0605 - accuracy: 0.9827\n",
      "Epoch 14/20\n",
      "420/420 [==============================] - 2s 6ms/step - loss: 0.0550 - accuracy: 0.9832\n",
      "Epoch 15/20\n",
      "420/420 [==============================] - 3s 6ms/step - loss: 0.0530 - accuracy: 0.9841\n",
      "Epoch 16/20\n",
      "420/420 [==============================] - 3s 6ms/step - loss: 0.0519 - accuracy: 0.9848\n",
      "Epoch 17/20\n",
      "420/420 [==============================] - 2s 6ms/step - loss: 0.0508 - accuracy: 0.9855\n",
      "Epoch 18/20\n",
      "420/420 [==============================] - 2s 6ms/step - loss: 0.0470 - accuracy: 0.9852\n",
      "Epoch 19/20\n",
      "420/420 [==============================] - 3s 7ms/step - loss: 0.0449 - accuracy: 0.9862\n",
      "Epoch 20/20\n",
      "420/420 [==============================] - 3s 6ms/step - loss: 0.0426 - accuracy: 0.9873\n"
     ]
    }
   ],
   "source": [
    "history = model4.fit(X_train, y_train,\n",
    "                    batch_size = batch_size,\n",
    "                    epochs = training_epochs)"
   ]
  },
  {
   "cell_type": "code",
   "execution_count": 84,
   "metadata": {},
   "outputs": [],
   "source": [
    "model4.save('Digit_Recognition_model.keras')"
   ]
  },
  {
   "cell_type": "code",
   "execution_count": 86,
   "metadata": {},
   "outputs": [],
   "source": [
    "loaded_model = tf.keras.models.load_model('Digit_Recognition_model.keras')"
   ]
  },
  {
   "cell_type": "code",
   "execution_count": 88,
   "metadata": {},
   "outputs": [
    {
     "name": "stdout",
     "output_type": "stream",
     "text": [
      "Model: \"model_3\"\n",
      "_________________________________________________________________\n",
      " Layer (type)                Output Shape              Param #   \n",
      "=================================================================\n",
      " input_4 (InputLayer)        [(None, 784)]             0         \n",
      "                                                                 \n",
      " Hidden_Layer_1 (Dense)      (None, 300)               235500    \n",
      "                                                                 \n",
      " dropout_9 (Dropout)         (None, 300)               0         \n",
      "                                                                 \n",
      " Hidden_Layer_2 (Dense)      (None, 100)               30100     \n",
      "                                                                 \n",
      " dropout_10 (Dropout)        (None, 100)               0         \n",
      "                                                                 \n",
      " Hidden_Layer_3 (Dense)      (None, 100)               10100     \n",
      "                                                                 \n",
      " dropout_11 (Dropout)        (None, 100)               0         \n",
      "                                                                 \n",
      " Hidden_Layer_4 (Dense)      (None, 200)               20200     \n",
      "                                                                 \n",
      " Output_Layer (Dense)        (None, 10)                2010      \n",
      "                                                                 \n",
      "=================================================================\n",
      "Total params: 297,910\n",
      "Trainable params: 297,910\n",
      "Non-trainable params: 0\n",
      "_________________________________________________________________\n"
     ]
    }
   ],
   "source": [
    "loaded_model.summary()"
   ]
  },
  {
   "cell_type": "markdown",
   "metadata": {
    "_cell_guid": "07d922d5-ec8a-4b3b-8e02-a0aafc3ad52a",
    "_execution_state": "idle",
    "_uuid": "ad316467bedf355759a181d353850f1d365ee05b",
    "collapsed": false
   },
   "source": [
    "With a validation score of close to 98%, we proceed to use this model to predict for the test set.\n"
   ]
  }
 ],
 "metadata": {
  "kernelspec": {
   "display_name": "Python 3",
   "language": "python",
   "name": "python3"
  },
  "language_info": {
   "codemirror_mode": {
    "name": "ipython",
    "version": 3
   },
   "file_extension": ".py",
   "mimetype": "text/x-python",
   "name": "python",
   "nbconvert_exporter": "python",
   "pygments_lexer": "ipython3",
   "version": "3.9.17"
  }
 },
 "nbformat": 4,
 "nbformat_minor": 0
}
